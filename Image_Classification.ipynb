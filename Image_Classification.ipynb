{
  "cells": [
    {
      "cell_type": "markdown",
      "metadata": {
        "id": "vZ86oERV_eLp"
      },
      "source": [
        "# Import Libraries"
      ]
    },
    {
      "cell_type": "code",
      "execution_count": 2,
      "metadata": {
        "id": "djER7_AZ1Kcl"
      },
      "outputs": [],
      "source": [
        "# optional\n",
        "!rm -rf /tmp/satelite"
      ]
    },
    {
      "cell_type": "code",
      "execution_count": 3,
      "metadata": {
        "id": "VMhLv-JH_hRs"
      },
      "outputs": [],
      "source": [
        "import pandas as pd\n",
        "import numpy as np\n",
        "import tensorflow as tf\n",
        "from tensorflow.keras.preprocessing.image import ImageDataGenerator\n",
        "from tensorflow.keras.applications import MobileNetV2\n",
        "from tensorflow.keras.layers import Input\n",
        "from sklearn.model_selection import train_test_split\n",
        "import matplotlib.pyplot as plt\n",
        "import pathlib\n",
        "import os\n",
        "import zipfile\n",
        "import shutil"
      ]
    },
    {
      "cell_type": "markdown",
      "metadata": {
        "id": "_WTY0tFi088G"
      },
      "source": [
        "# Datasets"
      ]
    },
    {
      "cell_type": "markdown",
      "metadata": {
        "id": "9KLTQkpw0j2B"
      },
      "source": [
        "https://www.kaggle.com/datasets/mahmoudreda55/satellite-image-classification/download?datasetVersionNumber=1"
      ]
    },
    {
      "cell_type": "markdown",
      "metadata": {
        "id": "efzuS6uA0eUd"
      },
      "source": [
        "# Unzip dataset.zip"
      ]
    },
    {
      "cell_type": "code",
      "execution_count": 4,
      "metadata": {
        "id": "aF89DrZu__lk"
      },
      "outputs": [],
      "source": [
        "local_zip = '/content/drive/MyDrive/kaggle/satelite.zip'\n",
        "zip_ref = zipfile.ZipFile(local_zip, 'r')\n",
        "zip_ref.extractall('/tmp/satelite')\n",
        "zip_ref.close()"
      ]
    },
    {
      "cell_type": "code",
      "execution_count": 5,
      "metadata": {
        "id": "7vG7oOg2E3i9"
      },
      "outputs": [],
      "source": [
        "base_dir = '/tmp/satelite/'\n",
        "image_dir = os.path.join(base_dir, 'data')\n",
        "train_dir = os.path.join(base_dir, 'train')\n",
        "validation_dir = os.path.join(base_dir, 'val')\n",
        "\n",
        "list = [train_dir, validation_dir]\n",
        "for dir in list:\n",
        "    os.mkdir(dir)"
      ]
    },
    {
      "cell_type": "code",
      "execution_count": 6,
      "metadata": {
        "id": "JnY6N9sOPNmM"
      },
      "outputs": [],
      "source": [
        "desert_dir = os.path.join(image_dir, 'desert')\n",
        "cloudy_dir = os.path.join(image_dir, 'cloudy')\n",
        "water_dir = os.path.join(image_dir, 'water')\n",
        "green_area_dir = os.path.join(image_dir, 'green_area')\n",
        "\n",
        "train_desert_dir = os.path.join(train_dir, 'desert')\n",
        "train_cloudy_dir = os.path.join(train_dir, 'cloudy')\n",
        "train_water_dir = os.path.join(train_dir, 'water')\n",
        "train_green_area_dir = os.path.join(train_dir, 'green_area')\n",
        "\n",
        "val_desert_dir = os.path.join(validation_dir, 'desert')\n",
        "val_cloudy_dir = os.path.join(validation_dir, 'cloudy')\n",
        "val_water_dir = os.path.join(validation_dir, 'water')\n",
        "val_green_area_dir = os.path.join(validation_dir, 'green_area')"
      ]
    },
    {
      "cell_type": "code",
      "execution_count": 7,
      "metadata": {
        "id": "f8ESsueWQwHE"
      },
      "outputs": [],
      "source": [
        "list1 = [train_desert_dir, train_cloudy_dir, train_water_dir, train_green_area_dir,\n",
        "         val_desert_dir, val_cloudy_dir, val_water_dir, val_green_area_dir]\n",
        "for folder in list1:\n",
        "    os.mkdir(folder)"
      ]
    },
    {
      "cell_type": "markdown",
      "metadata": {
        "id": "PFKTn9v7G1WO"
      },
      "source": [
        "# Preprocessing Data"
      ]
    },
    {
      "cell_type": "code",
      "execution_count": 8,
      "metadata": {
        "id": "41BcEsMWG0v-"
      },
      "outputs": [],
      "source": [
        "from sklearn.model_selection import train_test_split\n",
        "\n",
        "train_desert, val_desert = train_test_split(os.listdir(desert_dir), test_size=0.2, random_state=42)\n",
        "train_cloudy, val_cloudy = train_test_split(os.listdir(cloudy_dir), test_size=0.2, random_state=42)\n",
        "train_water, val_water = train_test_split(os.listdir(water_dir), test_size=0.2, random_state=42)\n",
        "train_green_area, val_green_area = train_test_split(os.listdir(green_area_dir), test_size=0.2, random_state=42)\n",
        "\n",
        "for file in train_desert:\n",
        "    shutil.copy(os.path.join(desert_dir, file), os.path.join(train_desert_dir, file))\n",
        "for file in val_desert:\n",
        "    shutil.copy(os.path.join(desert_dir, file), os.path.join(val_desert_dir, file))\n",
        "\n",
        "for file in train_cloudy:\n",
        "    shutil.copy(os.path.join(cloudy_dir, file), os.path.join(train_cloudy_dir, file))\n",
        "for file in val_cloudy:\n",
        "    shutil.copy(os.path.join(cloudy_dir, file), os.path.join(val_cloudy_dir, file))\n",
        "\n",
        "for file in train_water:\n",
        "    shutil.copy(os.path.join(water_dir, file), os.path.join(train_water_dir, file))\n",
        "for file in val_water:\n",
        "    shutil.copy(os.path.join(water_dir, file), os.path.join(val_water_dir, file))\n",
        "\n",
        "for file in train_green_area:\n",
        "    shutil.copy(os.path.join(green_area_dir, file), os.path.join(train_green_area_dir, file))\n",
        "for file in val_green_area:\n",
        "    shutil.copy(os.path.join(green_area_dir, file), os.path.join(val_green_area_dir, file))"
      ]
    },
    {
      "cell_type": "markdown",
      "metadata": {
        "id": "TwbffOr1TZBU"
      },
      "source": [
        "# Augmentation"
      ]
    },
    {
      "cell_type": "code",
      "execution_count": 9,
      "metadata": {
        "colab": {
          "base_uri": "https://localhost:8080/"
        },
        "id": "kaxbiyzSAyP6",
        "outputId": "91b3e899-a84c-4796-f06e-393ce48fe1ef"
      },
      "outputs": [
        {
          "output_type": "stream",
          "name": "stdout",
          "text": [
            "Found 4504 images belonging to 4 classes.\n",
            "Found 1127 images belonging to 4 classes.\n"
          ]
        }
      ],
      "source": [
        "train_datagen = ImageDataGenerator(\n",
        "    rescale=1./255,\n",
        "    rotation_range=45,\n",
        "    shear_range=0.2,\n",
        "    zoom_range=0.2,\n",
        "    horizontal_flip=True,\n",
        "    fill_mode='reflect'\n",
        ")\n",
        "\n",
        "train_generator = train_datagen.flow_from_directory(\n",
        "    train_dir,\n",
        "    class_mode='categorical',\n",
        "    target_size=(224, 224)\n",
        ")\n",
        "\n",
        "validation_datagen = ImageDataGenerator(\n",
        "    rescale=1./255,\n",
        ")\n",
        "\n",
        "validation_generator  = validation_datagen.flow_from_directory(\n",
        "    validation_dir,\n",
        "    class_mode='categorical',\n",
        "    target_size=(224, 224)\n",
        ")"
      ]
    },
    {
      "cell_type": "markdown",
      "metadata": {
        "id": "NUQH38QQVrEE"
      },
      "source": [
        "# Modelling"
      ]
    },
    {
      "cell_type": "code",
      "execution_count": 10,
      "metadata": {
        "id": "ZD01Rx_kXMt8"
      },
      "outputs": [],
      "source": [
        "ACCURACY_THRESHOLD = 0.92\n",
        "\n",
        "class myCallbacks(tf.keras.callbacks.Callback):\n",
        "    def on_epoch_end(self, epoch, logs={}):\n",
        "        if((logs.get('accuracy') > ACCURACY_THRESHOLD) and logs.get('val_accuracy') > ACCURACY_THRESHOLD):\n",
        "            print(\"\\n Akurasi lebih dari 92%\")\n",
        "            self.model.stop_training = True\n",
        "\n",
        "callbacks = myCallbacks()\n"
      ]
    },
    {
      "cell_type": "code",
      "execution_count": 11,
      "metadata": {
        "id": "h5KKiRwwQunW",
        "colab": {
          "base_uri": "https://localhost:8080/"
        },
        "outputId": "516c3eea-7935-41ae-be23-0c62af47cac5"
      },
      "outputs": [
        {
          "output_type": "stream",
          "name": "stdout",
          "text": [
            "Downloading data from https://storage.googleapis.com/tensorflow/keras-applications/mobilenet_v2/mobilenet_v2_weights_tf_dim_ordering_tf_kernels_1.0_224.h5\n",
            "14536120/14536120 [==============================] - 0s 0us/step\n"
          ]
        }
      ],
      "source": [
        "pre_trained_model = MobileNetV2()"
      ]
    },
    {
      "cell_type": "code",
      "execution_count": 12,
      "metadata": {
        "id": "vySv974dMdIz"
      },
      "outputs": [],
      "source": [
        "model = tf.keras.models.Sequential([\n",
        "    tf.keras.layers.Conv2D(256, (3,3), activation='relu', input_shape=(224, 224, 3)),\n",
        "    tf.keras.layers.MaxPooling2D(2, 2),\n",
        "    tf.keras.layers.Conv2D(128, (3,3), activation='relu'),\n",
        "    tf.keras.layers.MaxPooling2D(2,2),\n",
        "    tf.keras.layers.Flatten(),\n",
        "    tf.keras.layers.Dense(256, activation='relu'),\n",
        "    tf.keras.layers.Dense(64, activation='relu'),\n",
        "    tf.keras.layers.Dropout(0.4),\n",
        "    tf.keras.layers.Dense(4, activation='softmax')\n",
        "])\n",
        "\n",
        "optimizer = tf.optimizers.Adam(learning_rate=1e-4)\n",
        "model.compile(optimizer=optimizer,\n",
        "              loss='categorical_crossentropy',\n",
        "              metrics=['accuracy'])"
      ]
    },
    {
      "cell_type": "code",
      "execution_count": 13,
      "metadata": {
        "colab": {
          "base_uri": "https://localhost:8080/"
        },
        "id": "hlykn-z_8SVn",
        "outputId": "3c7a60c6-2b91-461a-c583-d2f8e03ac884"
      },
      "outputs": [
        {
          "output_type": "stream",
          "name": "stdout",
          "text": [
            "Model: \"sequential\"\n",
            "_________________________________________________________________\n",
            " Layer (type)                Output Shape              Param #   \n",
            "=================================================================\n",
            " conv2d (Conv2D)             (None, 222, 222, 256)     7168      \n",
            "                                                                 \n",
            " max_pooling2d (MaxPooling2D  (None, 111, 111, 256)    0         \n",
            " )                                                               \n",
            "                                                                 \n",
            " conv2d_1 (Conv2D)           (None, 109, 109, 128)     295040    \n",
            "                                                                 \n",
            " max_pooling2d_1 (MaxPooling  (None, 54, 54, 128)      0         \n",
            " 2D)                                                             \n",
            "                                                                 \n",
            " flatten (Flatten)           (None, 373248)            0         \n",
            "                                                                 \n",
            " dense (Dense)               (None, 256)               95551744  \n",
            "                                                                 \n",
            " dense_1 (Dense)             (None, 64)                16448     \n",
            "                                                                 \n",
            " dropout (Dropout)           (None, 64)                0         \n",
            "                                                                 \n",
            " dense_2 (Dense)             (None, 4)                 260       \n",
            "                                                                 \n",
            "=================================================================\n",
            "Total params: 95,870,660\n",
            "Trainable params: 95,870,660\n",
            "Non-trainable params: 0\n",
            "_________________________________________________________________\n"
          ]
        }
      ],
      "source": [
        "model.summary()"
      ]
    },
    {
      "cell_type": "code",
      "execution_count": 15,
      "metadata": {
        "colab": {
          "base_uri": "https://localhost:8080/"
        },
        "id": "qm2fEfFi81cW",
        "outputId": "5d25c830-7f50-4cd3-9e33-12794280ac7b"
      },
      "outputs": [
        {
          "output_type": "stream",
          "name": "stdout",
          "text": [
            "Epoch 1/40\n",
            "141/141 [==============================] - 89s 512ms/step - loss: 0.6544 - accuracy: 0.6980 - val_loss: 0.3961 - val_accuracy: 0.8137\n",
            "Epoch 2/40\n",
            "141/141 [==============================] - 71s 499ms/step - loss: 0.4267 - accuracy: 0.8284 - val_loss: 0.3779 - val_accuracy: 0.8456\n",
            "Epoch 3/40\n",
            "141/141 [==============================] - 69s 491ms/step - loss: 0.4085 - accuracy: 0.8408 - val_loss: 0.3191 - val_accuracy: 0.8758\n",
            "Epoch 4/40\n",
            "141/141 [==============================] - 71s 500ms/step - loss: 0.3917 - accuracy: 0.8441 - val_loss: 0.3176 - val_accuracy: 0.8696\n",
            "Epoch 5/40\n",
            "141/141 [==============================] - 71s 503ms/step - loss: 0.3218 - accuracy: 0.8777 - val_loss: 0.2599 - val_accuracy: 0.8935\n",
            "Epoch 6/40\n",
            "141/141 [==============================] - 70s 499ms/step - loss: 0.3131 - accuracy: 0.8748 - val_loss: 0.2661 - val_accuracy: 0.8793\n",
            "Epoch 7/40\n",
            "141/141 [==============================] - 70s 494ms/step - loss: 0.2922 - accuracy: 0.8810 - val_loss: 0.2345 - val_accuracy: 0.8926\n",
            "Epoch 8/40\n",
            "141/141 [==============================] - 70s 494ms/step - loss: 0.2922 - accuracy: 0.8850 - val_loss: 0.2575 - val_accuracy: 0.8962\n",
            "Epoch 9/40\n",
            "141/141 [==============================] - 69s 488ms/step - loss: 0.2889 - accuracy: 0.8865 - val_loss: 0.2533 - val_accuracy: 0.9024\n",
            "Epoch 10/40\n",
            "141/141 [==============================] - 72s 507ms/step - loss: 0.2819 - accuracy: 0.8879 - val_loss: 0.2887 - val_accuracy: 0.8696\n",
            "Epoch 11/40\n",
            "141/141 [==============================] - 69s 486ms/step - loss: 0.2747 - accuracy: 0.8950 - val_loss: 0.2321 - val_accuracy: 0.8997\n",
            "Epoch 12/40\n",
            "141/141 [==============================] - 68s 484ms/step - loss: 0.2684 - accuracy: 0.8965 - val_loss: 0.3771 - val_accuracy: 0.8394\n",
            "Epoch 13/40\n",
            "141/141 [==============================] - 68s 485ms/step - loss: 0.2574 - accuracy: 0.8970 - val_loss: 0.2041 - val_accuracy: 0.9086\n",
            "Epoch 14/40\n",
            "141/141 [==============================] - 70s 491ms/step - loss: 0.2653 - accuracy: 0.8945 - val_loss: 0.2344 - val_accuracy: 0.8980\n",
            "Epoch 15/40\n",
            "141/141 [==============================] - 69s 487ms/step - loss: 0.2413 - accuracy: 0.8992 - val_loss: 0.2318 - val_accuracy: 0.9095\n",
            "Epoch 16/40\n",
            "141/141 [==============================] - 69s 485ms/step - loss: 0.2707 - accuracy: 0.8912 - val_loss: 0.2440 - val_accuracy: 0.8873\n",
            "Epoch 17/40\n",
            "141/141 [==============================] - 71s 502ms/step - loss: 0.2487 - accuracy: 0.8999 - val_loss: 0.2162 - val_accuracy: 0.9139\n",
            "Epoch 18/40\n",
            "141/141 [==============================] - 69s 488ms/step - loss: 0.2420 - accuracy: 0.9085 - val_loss: 0.2167 - val_accuracy: 0.9006\n",
            "Epoch 19/40\n",
            "141/141 [==============================] - 68s 481ms/step - loss: 0.2247 - accuracy: 0.9105 - val_loss: 0.1969 - val_accuracy: 0.9219\n",
            "Epoch 20/40\n",
            "141/141 [==============================] - 68s 483ms/step - loss: 0.2385 - accuracy: 0.9067 - val_loss: 0.2091 - val_accuracy: 0.9122\n",
            "Epoch 21/40\n",
            "141/141 [==============================] - 68s 482ms/step - loss: 0.2489 - accuracy: 0.9014 - val_loss: 0.2337 - val_accuracy: 0.8971\n",
            "Epoch 22/40\n",
            "141/141 [==============================] - 68s 481ms/step - loss: 0.2205 - accuracy: 0.9083 - val_loss: 0.1875 - val_accuracy: 0.9299\n",
            "Epoch 23/40\n",
            "141/141 [==============================] - ETA: 0s - loss: 0.2065 - accuracy: 0.9205\n",
            " Akurasi lebih dari 92%\n",
            "141/141 [==============================] - 68s 483ms/step - loss: 0.2065 - accuracy: 0.9205 - val_loss: 0.1791 - val_accuracy: 0.9264\n"
          ]
        }
      ],
      "source": [
        "hist = model.fit(train_generator,\n",
        "                 epochs=40,\n",
        "                 batch_size=128,\n",
        "                 validation_data=validation_generator,\n",
        "                 callbacks=[callbacks])"
      ]
    },
    {
      "cell_type": "code",
      "execution_count": 16,
      "metadata": {
        "id": "Dz05vJBb89w7",
        "colab": {
          "base_uri": "https://localhost:8080/",
          "height": 472
        },
        "outputId": "c670ae54-8786-4aa0-dfb1-5f16a68b1059"
      },
      "outputs": [
        {
          "output_type": "display_data",
          "data": {
            "text/plain": [
              "<Figure size 640x480 with 1 Axes>"
            ],
            "image/png": "[encoded data removed]"
          },
          "metadata": {}
        }
      ],
      "source": [
        "plt.plot(hist.history['loss'])\n",
        "plt.plot(hist.history['val_loss'])\n",
        "plt.title('Loss Model')\n",
        "plt.ylabel('loss')\n",
        "plt.xlabel('epoch')\n",
        "plt.legend(['train', 'validation'], loc='upper right')\n",
        "plt.show()"
      ]
    },
    {
      "cell_type": "code",
      "execution_count": 17,
      "metadata": {
        "id": "UD8Y1stz9QDy",
        "colab": {
          "base_uri": "https://localhost:8080/",
          "height": 472
        },
        "outputId": "faef145d-a85f-4b9b-f643-1c7d8fec1c90"
      },
      "outputs": [
        {
          "output_type": "display_data",
          "data": {
            "text/plain": [
              "<Figure size 640x480 with 1 Axes>"
            ],
            "image/png": "[encoded data removed]"
          },
          "metadata": {}
        }
      ],
      "source": [
        "plt.plot(hist.history['accuracy'])\n",
        "plt.plot(hist.history['val_accuracy'])\n",
        "plt.title('Accuracy Model')\n",
        "plt.ylabel('accuracy')\n",
        "plt.xlabel('epoch')\n",
        "plt.legend(['train', 'validation'], loc='upper left')\n",
        "plt.show()"
      ]
    },
    {
      "cell_type": "code",
      "execution_count": 18,
      "metadata": {
        "id": "ryYWnNpeaGyd"
      },
      "outputs": [],
      "source": [
        "from google.colab import files\n",
        "import matplotlib.pyplot as plt\n",
        "from tensorflow.keras.preprocessing import image\n",
        "%matplotlib inline\n",
        "\n",
        "labels = ['cloudy', 'desert', 'green_area', 'water']\n",
        "\n",
        "def test():\n",
        "    uploaded = files.upload()\n",
        "    for filename in uploaded.keys():\n",
        "        path = filename\n",
        "        img = image.load_img(path, target_size=(224,224))\n",
        "\n",
        "        imgplot = plt.imshow(img)\n",
        "        x = image.img_to_array(img)\n",
        "        x = np.expand_dims(x, axis=0)\n",
        "        images = np.vstack([x])\n",
        "\n",
        "        classes = model.predict(images, batch_size=32)\n",
        "        print(labels[np.argmax(classes)])"
      ]
    },
    {
      "cell_type": "code",
      "execution_count": null,
      "metadata": {
        "id": "qLju8lWwaGmv",
        "colab": {
          "base_uri": "https://localhost:8080/",
          "height": 38
        },
        "outputId": "2cd96ef7-77c6-4b05-a76c-c933b1fcf171"
      },
      "outputs": [
        {
          "output_type": "display_data",
          "data": {
            "text/plain": [
              "<IPython.core.display.HTML object>"
            ],
            "text/html": [
              "\n",
              "     <input type=\"file\" id=\"files-80f87c01-d072-4bcd-8783-a69d9310fda9\" name=\"files[]\" multiple disabled\n",
              "        style=\"border:none\" />\n",
              "     <output id=\"result-80f87c01-d072-4bcd-8783-a69d9310fda9\">\n",
              "      Upload widget is only available when the cell has been executed in the\n",
              "      current browser session. Please rerun this cell to enable.\n",
              "      </output>\n",
              "      <script>// Copyright 2017 Google LLC\n",
              "//\n",
              "// Licensed under the Apache License, Version 2.0 (the \"License\");\n",
              "// you may not use this file except in compliance with the License.\n",
              "// You may obtain a copy of the License at\n",
              "//\n",
              "//      http://www.apache.org/licenses/LICENSE-2.0\n",
              "//\n",
              "// Unless required by applicable law or agreed to in writing, software\n",
              "// distributed under the License is distributed on an \"AS IS\" BASIS,\n",
              "// WITHOUT WARRANTIES OR CONDITIONS OF ANY KIND, either express or implied.\n",
              "// See the License for the specific language governing permissions and\n",
              "// limitations under the License.\n",
              "\n",
              "/**\n",
              " * @fileoverview Helpers for google.colab Python module.\n",
              " */\n",
              "(function(scope) {\n",
              "function span(text, styleAttributes = {}) {\n",
              "  const element = document.createElement('span');\n",
              "  element.textContent = text;\n",
              "  for (const key of Object.keys(styleAttributes)) {\n",
              "    element.style[key] = styleAttributes[key];\n",
              "  }\n",
              "  return element;\n",
              "}\n",
              "\n",
              "// Max number of bytes which will be uploaded at a time.\n",
              "const MAX_PAYLOAD_SIZE = 100 * 1024;\n",
              "\n",
              "function _uploadFiles(inputId, outputId) {\n",
              "  const steps = uploadFilesStep(inputId, outputId);\n",
              "  const outputElement = document.getElementById(outputId);\n",
              "  // Cache steps on the outputElement to make it available for the next call\n",
              "  // to uploadFilesContinue from Python.\n",
              "  outputElement.steps = steps;\n",
              "\n",
              "  return _uploadFilesContinue(outputId);\n",
              "}\n",
              "\n",
              "// This is roughly an async generator (not supported in the browser yet),\n",
              "// where there are multiple asynchronous steps and the Python side is going\n",
              "// to poll for completion of each step.\n",
              "// This uses a Promise to block the python side on completion of each step,\n",
              "// then passes the result of the previous step as the input to the next step.\n",
              "function _uploadFilesContinue(outputId) {\n",
              "  const outputElement = document.getElementById(outputId);\n",
              "  const steps = outputElement.steps;\n",
              "\n",
              "  const next = steps.next(outputElement.lastPromiseValue);\n",
              "  return Promise.resolve(next.value.promise).then((value) => {\n",
              "    // Cache the last promise value to make it available to the next\n",
              "    // step of the generator.\n",
              "    outputElement.lastPromiseValue = value;\n",
              "    return next.value.response;\n",
              "  });\n",
              "}\n",
              "\n",
              "/**\n",
              " * Generator function which is called between each async step of the upload\n",
              " * process.\n",
              " * @param {string} inputId Element ID of the input file picker element.\n",
              " * @param {string} outputId Element ID of the output display.\n",
              " * @return {!Iterable<!Object>} Iterable of next steps.\n",
              " */\n",
              "function* uploadFilesStep(inputId, outputId) {\n",
              "  const inputElement = document.getElementById(inputId);\n",
              "  inputElement.disabled = false;\n",
              "\n",
              "  const outputElement = document.getElementById(outputId);\n",
              "  outputElement.innerHTML = '';\n",
              "\n",
              "  const pickedPromise = new Promise((resolve) => {\n",
              "    inputElement.addEventListener('change', (e) => {\n",
              "      resolve(e.target.files);\n",
              "    });\n",
              "  });\n",
              "\n",
              "  const cancel = document.createElement('button');\n",
              "  inputElement.parentElement.appendChild(cancel);\n",
              "  cancel.textContent = 'Cancel upload';\n",
              "  const cancelPromise = new Promise((resolve) => {\n",
              "    cancel.onclick = () => {\n",
              "      resolve(null);\n",
              "    };\n",
              "  });\n",
              "\n",
              "  // Wait for the user to pick the files.\n",
              "  const files = yield {\n",
              "    promise: Promise.race([pickedPromise, cancelPromise]),\n",
              "    response: {\n",
              "      action: 'starting',\n",
              "    }\n",
              "  };\n",
              "\n",
              "  cancel.remove();\n",
              "\n",
              "  // Disable the input element since further picks are not allowed.\n",
              "  inputElement.disabled = true;\n",
              "\n",
              "  if (!files) {\n",
              "    return {\n",
              "      response: {\n",
              "        action: 'complete',\n",
              "      }\n",
              "    };\n",
              "  }\n",
              "\n",
              "  for (const file of files) {\n",
              "    const li = document.createElement('li');\n",
              "    li.append(span(file.name, {fontWeight: 'bold'}));\n",
              "    li.append(span(\n",
              "        `(${file.type || 'n/a'}) - ${file.size} bytes, ` +\n",
              "        `last modified: ${\n",
              "            file.lastModifiedDate ? file.lastModifiedDate.toLocaleDateString() :\n",
              "                                    'n/a'} - `));\n",
              "    const percent = span('0% done');\n",
              "    li.appendChild(percent);\n",
              "\n",
              "    outputElement.appendChild(li);\n",
              "\n",
              "    const fileDataPromise = new Promise((resolve) => {\n",
              "      const reader = new FileReader();\n",
              "      reader.onload = (e) => {\n",
              "        resolve(e.target.result);\n",
              "      };\n",
              "      reader.readAsArrayBuffer(file);\n",
              "    });\n",
              "    // Wait for the data to be ready.\n",
              "    let fileData = yield {\n",
              "      promise: fileDataPromise,\n",
              "      response: {\n",
              "        action: 'continue',\n",
              "      }\n",
              "    };\n",
              "\n",
              "    // Use a chunked sending to avoid message size limits. See b/62115660.\n",
              "    let position = 0;\n",
              "    do {\n",
              "      const length = Math.min(fileData.byteLength - position, MAX_PAYLOAD_SIZE);\n",
              "      const chunk = new Uint8Array(fileData, position, length);\n",
              "      position += length;\n",
              "\n",
              "      const base64 = btoa(String.fromCharCode.apply(null, chunk));\n",
              "      yield {\n",
              "        response: {\n",
              "          action: 'append',\n",
              "          file: file.name,\n",
              "          data: base64,\n",
              "        },\n",
              "      };\n",
              "\n",
              "      let percentDone = fileData.byteLength === 0 ?\n",
              "          100 :\n",
              "          Math.round((position / fileData.byteLength) * 100);\n",
              "      percent.textContent = `${percentDone}% done`;\n",
              "\n",
              "    } while (position < fileData.byteLength);\n",
              "  }\n",
              "\n",
              "  // All done.\n",
              "  yield {\n",
              "    response: {\n",
              "      action: 'complete',\n",
              "    }\n",
              "  };\n",
              "}\n",
              "\n",
              "scope.google = scope.google || {};\n",
              "scope.google.colab = scope.google.colab || {};\n",
              "scope.google.colab._files = {\n",
              "  _uploadFiles,\n",
              "  _uploadFilesContinue,\n",
              "};\n",
              "})(self);\n",
              "</script> "
            ]
          },
          "metadata": {}
        }
      ],
      "source": [
        "test()"
      ]
    },
    {
      "cell_type": "code",
      "execution_count": null,
      "metadata": {
        "id": "H-4QcG5ndiln"
      },
      "outputs": [],
      "source": []
    }
  ],
  "metadata": {
    "accelerator": "GPU",
    "colab": {
      "provenance": []
    },
    "gpuClass": "standard",
    "kernelspec": {
      "display_name": "Python 3",
      "name": "python3"
    },
    "language_info": {
      "name": "python"
    }
  },
  "nbformat": 4,
  "nbformat_minor": 0
}